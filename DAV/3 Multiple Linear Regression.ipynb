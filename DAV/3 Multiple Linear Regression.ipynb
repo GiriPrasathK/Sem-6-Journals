{
 "cells": [
  {
   "cell_type": "code",
   "execution_count": null,
   "metadata": {},
   "outputs": [],
   "source": [
    "pwd"
   ]
  },
  {
   "cell_type": "code",
   "execution_count": null,
   "metadata": {},
   "outputs": [],
   "source": [
    "import pandas as pd\n",
    "from sklearn.linear_model import LinearRegression\n",
    "\n",
    "df = pd.read_csv(\"Cars.csv\")\n",
    "\n",
    "X = df[['Weight', 'Volume']].values     # Multidimensional NP Array. Can also use DataFrame\n",
    "y = df['CO2'].values                    # Series / NP Array\n",
    "\n",
    "lm = LinearRegression()\n",
    "lm.fit(X, y)\n",
    "\n",
    "# Predict the CO2 emission of a car where the weight is 1150kg, and the volume is 1600cm3:\n",
    "# Multidimensional array where each row is a sample and each column (item in row) is a feature\n",
    "print(lm.predict([[1150, 1600]]))\n",
    "\n",
    "# Predict the CO2 emission of a car where the weight is 2300kg, and the volume is 1300cm3:\n",
    "print(lm.predict([[2300, 1300]]))"
   ]
  }
 ],
 "metadata": {
  "kernelspec": {
   "display_name": "Python 3",
   "language": "python",
   "name": "python3"
  },
  "language_info": {
   "codemirror_mode": {
    "name": "ipython",
    "version": 3
   },
   "file_extension": ".py",
   "mimetype": "text/x-python",
   "name": "python",
   "nbconvert_exporter": "python",
   "pygments_lexer": "ipython3",
   "version": "3.11.1"
  }
 },
 "nbformat": 4,
 "nbformat_minor": 4
}
