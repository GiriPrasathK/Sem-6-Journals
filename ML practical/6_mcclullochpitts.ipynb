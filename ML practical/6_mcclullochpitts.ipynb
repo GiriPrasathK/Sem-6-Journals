{
  "nbformat": 4,
  "nbformat_minor": 0,
  "metadata": {
    "colab": {
      "provenance": []
    },
    "kernelspec": {
      "name": "python3",
      "display_name": "Python 3"
    },
    "language_info": {
      "name": "python"
    }
  },
  "cells": [
    {
      "cell_type": "markdown",
      "source": [
        "https://medium.com/@pennQuin/implementing-boolean-functions-using-mcculloch-pitts-mp-neuron-36164ccc653f"
      ],
      "metadata": {
        "id": "nPB-rMU2LNe_"
      }
    },
    {
      "cell_type": "code",
      "source": [
        "def mcculloch_pitts(inputs, weights, threshold):\n",
        "    weighted_sum = sum(i * w for i, w in zip(inputs, weights))\n",
        "    return 1 if weighted_sum >= threshold else 0\n",
        "\n",
        "# Define gates\n",
        "AND_GATE = {\n",
        "    \"weights\": [1, 1],\n",
        "    \"threshold\": 2\n",
        "}\n",
        "\n",
        "OR_GATE = {\n",
        "    \"weights\": [1, 1],\n",
        "    \"threshold\": 1\n",
        "}\n",
        "\n",
        "# Test inputs\n",
        "test_cases = [(0, 0), (0, 1), (1, 0), (1, 1)]\n",
        "\n",
        "print(\"AND Gate:\")\n",
        "for x1, x2 in test_cases:\n",
        "    output = mcculloch_pitts([x1, x2], AND_GATE[\"weights\"], AND_GATE[\"threshold\"])\n",
        "    print(f\"Input: ({x1}, {x2}) -> Output: {output}\")\n",
        "\n",
        "print(\"\\nOR Gate:\")\n",
        "for x1, x2 in test_cases:\n",
        "    output = mcculloch_pitts([x1, x2], OR_GATE[\"weights\"], OR_GATE[\"threshold\"])\n",
        "    print(f\"Input: ({x1}, {x2}) -> Output: {output}\")\n"
      ],
      "metadata": {
        "id": "xaf5a0FLfSB6"
      },
      "execution_count": null,
      "outputs": []
    },
    {
      "cell_type": "code",
      "source": [],
      "metadata": {
        "id": "VpqIUm4ciFa6"
      },
      "execution_count": null,
      "outputs": []
    }
  ]
}